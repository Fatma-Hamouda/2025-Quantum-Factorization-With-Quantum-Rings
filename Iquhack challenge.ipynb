{
  "nbformat": 4,
  "nbformat_minor": 0,
  "metadata": {
    "colab": {
      "provenance": [],
      "authorship_tag": "ABX9TyM3yuYgq0Pww9qdOT5WEr1y",
      "include_colab_link": true
    },
    "kernelspec": {
      "name": "python3",
      "display_name": "Python 3"
    },
    "language_info": {
      "name": "python"
    }
  },
  "cells": [
    {
      "cell_type": "markdown",
      "metadata": {
        "id": "view-in-github",
        "colab_type": "text"
      },
      "source": [
        "<a href=\"https://colab.research.google.com/github/Fatma-Hamouda/2025-Quantum-Factorization-With-Quantum-Rings/blob/main/Iquhack%20challenge.ipynb\" target=\"_parent\"><img src=\"https://colab.research.google.com/assets/colab-badge.svg\" alt=\"Open In Colab\"/></a>"
      ]
    },
    {
      "cell_type": "code",
      "source": [
        "!pip install QuantumRingsLib"
      ],
      "metadata": {
        "colab": {
          "base_uri": "https://localhost:8080/"
        },
        "id": "8VSZ3kfgpSDT",
        "outputId": "ac4cc9be-e175-473d-90d0-fc4e8be442ff"
      },
      "execution_count": 1,
      "outputs": [
        {
          "output_type": "stream",
          "name": "stdout",
          "text": [
            "Requirement already satisfied: QuantumRingsLib in /usr/local/lib/python3.11/dist-packages (0.9.11)\n"
          ]
        }
      ]
    },
    {
      "cell_type": "code",
      "source": [
        "import QuantumRingsLib\n",
        "from QuantumRingsLib import QuantumRegister, ClassicalRegister, QuantumCircuit\n",
        "from QuantumRingsLib import QuantumRingsProvider\n",
        "from QuantumRingsLib import job_monitor\n",
        "from QuantumRingsLib import JobStatus\n",
        "import numpy as np\n",
        "import math\n",
        "import time\n",
        "from fractions import Fraction\n",
        "\n",
        "# Initialize Quantum Rings Provider and Backend\n",
        "provider = QuantumRingsProvider(\n",
        "    token='rings-200.DTXB2V3yy9HYltRqPFs8dppsAESVGfdL',\n",
        "    name='fatma_h00197@cic-cairo.com'\n",
        ")\n",
        "backend = provider.get_backend(\"scarlet_quantum_rings\")\n",
        "shots = 1024"
      ],
      "metadata": {
        "id": "Nh2XU91Z_HJo"
      },
      "execution_count": 4,
      "outputs": []
    },
    {
      "cell_type": "code",
      "source": [
        "# Helper Functions\n",
        "def compute_gcd(a, b):\n",
        "    while b != 0:\n",
        "        a, b = b, a % b\n",
        "    return a\n",
        "\n",
        "def modular_exponentiation_circuit(qc, a, N, control, work):\n",
        "    n = len(control)\n",
        "    precomputed_powers = [pow(a, 2**i, N) for i in range(n)]\n",
        "    for i in range(n):\n",
        "        a_exp = precomputed_powers[i]\n",
        "        for j in range(len(work)):\n",
        "            if (a_exp >> j) & 1:\n",
        "                qc.cx(control[i], work[j])\n",
        "    return qc\n",
        "\n",
        "def iqft_cct(qc, control_register, n):\n",
        "    for qubit in reversed(range(n)):\n",
        "        qc.h(control_register[qubit])\n",
        "        for j in reversed(range(qubit)):\n",
        "            angle = -math.pi / (2 ** (qubit - j))\n",
        "            qc.cp(angle, control_register[j], control_register[qubit])\n",
        "    return qc\n",
        "\n",
        "def extract_period(counts, n_qubits, a, N):\n",
        "    measurements = [int(state, 2) for state in counts.keys()]\n",
        "    if not measurements:\n",
        "        print(\"No measurements found.\")\n",
        "        return None\n",
        "    max_state = max(counts, key=lambda k: counts[k])\n",
        "    s = int(max_state, 2)\n",
        "    phase = s / (2 ** n_qubits)\n",
        "    print(f\"Phase: {phase}\")\n",
        "    frac = Fraction(phase).limit_denominator(N)\n",
        "    print(f\"Fraction: {frac}\")\n",
        "    r = frac.denominator\n",
        "    if r % 2 == 0 and pow(a, r // 2, N) != N - 1:\n",
        "        return r\n",
        "    print(f\"Invalid period: r={r}\")\n",
        "    return None\n",
        "\n",
        "# Shor's Algorithm Implementation\n",
        "def shors_algorithm(N):\n",
        "    if N <= 1:\n",
        "        raise ValueError(\"N must be greater than 1.\")\n",
        "    if N % 2 == 0:\n",
        "        print(f\"N is even. Factors: 2 and {N // 2}\")\n",
        "        return (2, N // 2)\n",
        "\n",
        "    n_qubits = int(np.ceil(np.log2(N)))\n",
        "    control_qubits = 2 * n_qubits\n",
        "    work_qubits = n_qubits\n",
        "\n",
        "    for attempt in range(1):\n",
        "        a = np.random.randint(2, N)\n",
        "        print(f\"Attempt {attempt+1}: a = {a}\")\n",
        "        gcd = compute_gcd(a, N)\n",
        "        if gcd != 1 and gcd != N:  # Ensure it's a non-trivial factor\n",
        "            other_factor = N // gcd  # Compute the second factor\n",
        "            print(f\"Factors found: {gcd}, {other_factor}\")\n",
        "            return gcd, other_factor\n",
        "\n",
        "        control = QuantumRegister(control_qubits, 'control')\n",
        "        work = QuantumRegister(work_qubits, 'work')\n",
        "        c = ClassicalRegister(control_qubits, 'c')\n",
        "        qc = QuantumCircuit(control, work, c)\n",
        "\n",
        "        qc.h(control)\n",
        "        modular_exponentiation_circuit(qc, a, N, control, work)\n",
        "        iqft_cct(qc, control, control_qubits)\n",
        "        qc.measure(control, c)\n",
        "\n",
        "        job = backend.run(qc, shots=shots)\n",
        "        start_time = time.time()\n",
        "        timeout = 1000\n",
        "\n",
        "        while job.status() not in [JobStatus.DONE, JobStatus.CANCELLED, JobStatus.ERROR]:\n",
        "            if time.time() - start_time > timeout:\n",
        "                print(\"Job timed out.\")\n",
        "                job.cancel()\n",
        "                break\n",
        "            time.sleep(1)\n",
        "\n",
        "        if job.status() == JobStatus.DONE:\n",
        "            counts = job.result().get_counts()\n",
        "            print(f\"Measurement results: {counts}\")\n",
        "            r = extract_period(counts, control_qubits, a, N)\n",
        "            if r:\n",
        "                print(f\"Period found: r = {r}\")\n",
        "                x = pow(a, r // 2, N)\n",
        "                if x != N - 1:\n",
        "                    factor1 = compute_gcd(x - 1, N)\n",
        "                    factor2 = compute_gcd(x + 1, N)\n",
        "                    print(f\"Candidate factors: {factor1}, {factor2}\")\n",
        "                    if factor1 * factor2 == N:\n",
        "                        print(f\"Factors found: {factor1} and {factor2}\")\n",
        "                        return (factor1, factor2)\n",
        "\n",
        "    print(\"Failed to find factors after multiple attempts.\")\n",
        "    return None\n",
        "\n"
      ],
      "metadata": {
        "id": "KPp6quMt_D50"
      },
      "execution_count": 9,
      "outputs": []
    },
    {
      "cell_type": "code",
      "source": [
        "# Main Execution\n",
        "if __name__ == \"__main__\":\n",
        "    N = 143  # Example semiprime\n",
        "    print(f\"Factoring N = {N}\")\n",
        "    factors = shors_algorithm(N)\n",
        "    if factors:\n",
        "        print(f\"Factors of {N}: {factors}\")\n",
        "    else:\n",
        "        print(f\"Failed to factor {N}\")"
      ],
      "metadata": {
        "colab": {
          "base_uri": "https://localhost:8080/"
        },
        "id": "opGKjyqnApJK",
        "outputId": "9bcce28a-8a6a-41c9-b26c-f6c7f40b5ffc"
      },
      "execution_count": null,
      "outputs": [
        {
          "output_type": "stream",
          "name": "stdout",
          "text": [
            "Factoring N = 143\n",
            "Attempt 1: a = 72\n"
          ]
        }
      ]
    }
  ]
}